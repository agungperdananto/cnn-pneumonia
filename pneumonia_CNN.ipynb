{
 "cells": [
  {
   "cell_type": "code",
   "execution_count": 1,
   "metadata": {},
   "outputs": [
    {
     "name": "stderr",
     "output_type": "stream",
     "text": [
      "Using TensorFlow backend.\n"
     ]
    }
   ],
   "source": [
    "import keras\n",
    "from keras.models import Sequential\n",
    "from keras.layers import Conv2D, MaxPooling2D, Dense, Flatten, Dropout\n",
    "from keras.optimizers import Adam\n",
    "from keras.callbacks import TensorBoard\n",
    "\n",
    "import numpy as np\n",
    "import pandas as pd\n",
    "%matplotlib inline\n",
    "import matplotlib.pyplot as plt\n",
    "from sklearn.model_selection import train_test_split\n"
   ]
  },
  {
   "cell_type": "code",
   "execution_count": 2,
   "metadata": {},
   "outputs": [],
   "source": [
    "train_df = pd.read_csv('Data/data_train_mnist.csv')\n",
    "test_df = pd.read_csv('Data/data_test_mnist.csv')\n"
   ]
  },
  {
   "cell_type": "code",
   "execution_count": 3,
   "metadata": {},
   "outputs": [
    {
     "data": {
      "text/html": [
       "<div>\n",
       "<style scoped>\n",
       "    .dataframe tbody tr th:only-of-type {\n",
       "        vertical-align: middle;\n",
       "    }\n",
       "\n",
       "    .dataframe tbody tr th {\n",
       "        vertical-align: top;\n",
       "    }\n",
       "\n",
       "    .dataframe thead th {\n",
       "        text-align: right;\n",
       "    }\n",
       "</style>\n",
       "<table border=\"1\" class=\"dataframe\">\n",
       "  <thead>\n",
       "    <tr style=\"text-align: right;\">\n",
       "      <th></th>\n",
       "      <th>label</th>\n",
       "      <th>pixel 0</th>\n",
       "      <th>pixel 1</th>\n",
       "      <th>pixel 2</th>\n",
       "      <th>pixel 3</th>\n",
       "      <th>pixel 4</th>\n",
       "      <th>pixel 5</th>\n",
       "      <th>pixel 6</th>\n",
       "      <th>pixel 7</th>\n",
       "      <th>pixel 8</th>\n",
       "      <th>...</th>\n",
       "      <th>pixel 774</th>\n",
       "      <th>pixel 775</th>\n",
       "      <th>pixel 776</th>\n",
       "      <th>pixel 777</th>\n",
       "      <th>pixel 778</th>\n",
       "      <th>pixel 779</th>\n",
       "      <th>pixel 780</th>\n",
       "      <th>pixel 781</th>\n",
       "      <th>pixel 782</th>\n",
       "      <th>pixel 783</th>\n",
       "    </tr>\n",
       "  </thead>\n",
       "  <tbody>\n",
       "    <tr>\n",
       "      <th>0</th>\n",
       "      <td>0.0</td>\n",
       "      <td>15.0</td>\n",
       "      <td>14.0</td>\n",
       "      <td>10.0</td>\n",
       "      <td>30.0</td>\n",
       "      <td>62.0</td>\n",
       "      <td>88.0</td>\n",
       "      <td>109.0</td>\n",
       "      <td>129.0</td>\n",
       "      <td>114.0</td>\n",
       "      <td>...</td>\n",
       "      <td>176.0</td>\n",
       "      <td>179.0</td>\n",
       "      <td>164.0</td>\n",
       "      <td>177.0</td>\n",
       "      <td>184.0</td>\n",
       "      <td>141.0</td>\n",
       "      <td>50.0</td>\n",
       "      <td>8.0</td>\n",
       "      <td>11.0</td>\n",
       "      <td>12.0</td>\n",
       "    </tr>\n",
       "    <tr>\n",
       "      <th>1</th>\n",
       "      <td>1.0</td>\n",
       "      <td>121.0</td>\n",
       "      <td>140.0</td>\n",
       "      <td>151.0</td>\n",
       "      <td>170.0</td>\n",
       "      <td>171.0</td>\n",
       "      <td>194.0</td>\n",
       "      <td>196.0</td>\n",
       "      <td>188.0</td>\n",
       "      <td>172.0</td>\n",
       "      <td>...</td>\n",
       "      <td>175.0</td>\n",
       "      <td>175.0</td>\n",
       "      <td>172.0</td>\n",
       "      <td>171.0</td>\n",
       "      <td>157.0</td>\n",
       "      <td>144.0</td>\n",
       "      <td>130.0</td>\n",
       "      <td>98.0</td>\n",
       "      <td>73.0</td>\n",
       "      <td>15.0</td>\n",
       "    </tr>\n",
       "    <tr>\n",
       "      <th>2</th>\n",
       "      <td>1.0</td>\n",
       "      <td>23.0</td>\n",
       "      <td>200.0</td>\n",
       "      <td>21.0</td>\n",
       "      <td>22.0</td>\n",
       "      <td>25.0</td>\n",
       "      <td>26.0</td>\n",
       "      <td>25.0</td>\n",
       "      <td>22.0</td>\n",
       "      <td>6.0</td>\n",
       "      <td>...</td>\n",
       "      <td>126.0</td>\n",
       "      <td>114.0</td>\n",
       "      <td>100.0</td>\n",
       "      <td>99.0</td>\n",
       "      <td>101.0</td>\n",
       "      <td>69.0</td>\n",
       "      <td>110.0</td>\n",
       "      <td>33.0</td>\n",
       "      <td>28.0</td>\n",
       "      <td>30.0</td>\n",
       "    </tr>\n",
       "    <tr>\n",
       "      <th>3</th>\n",
       "      <td>1.0</td>\n",
       "      <td>101.0</td>\n",
       "      <td>82.0</td>\n",
       "      <td>90.0</td>\n",
       "      <td>100.0</td>\n",
       "      <td>137.0</td>\n",
       "      <td>145.0</td>\n",
       "      <td>178.0</td>\n",
       "      <td>125.0</td>\n",
       "      <td>141.0</td>\n",
       "      <td>...</td>\n",
       "      <td>159.0</td>\n",
       "      <td>128.0</td>\n",
       "      <td>127.0</td>\n",
       "      <td>110.0</td>\n",
       "      <td>119.0</td>\n",
       "      <td>135.0</td>\n",
       "      <td>143.0</td>\n",
       "      <td>159.0</td>\n",
       "      <td>120.0</td>\n",
       "      <td>85.0</td>\n",
       "    </tr>\n",
       "    <tr>\n",
       "      <th>4</th>\n",
       "      <td>0.0</td>\n",
       "      <td>70.0</td>\n",
       "      <td>90.0</td>\n",
       "      <td>167.0</td>\n",
       "      <td>179.0</td>\n",
       "      <td>95.0</td>\n",
       "      <td>82.0</td>\n",
       "      <td>33.0</td>\n",
       "      <td>0.0</td>\n",
       "      <td>0.0</td>\n",
       "      <td>...</td>\n",
       "      <td>214.0</td>\n",
       "      <td>211.0</td>\n",
       "      <td>198.0</td>\n",
       "      <td>210.0</td>\n",
       "      <td>203.0</td>\n",
       "      <td>191.0</td>\n",
       "      <td>166.0</td>\n",
       "      <td>56.0</td>\n",
       "      <td>0.0</td>\n",
       "      <td>0.0</td>\n",
       "    </tr>\n",
       "  </tbody>\n",
       "</table>\n",
       "<p>5 rows × 785 columns</p>\n",
       "</div>"
      ],
      "text/plain": [
       "   label  pixel 0  pixel 1  pixel 2  pixel 3  pixel 4  pixel 5  pixel 6  \\\n",
       "0    0.0     15.0     14.0     10.0     30.0     62.0     88.0    109.0   \n",
       "1    1.0    121.0    140.0    151.0    170.0    171.0    194.0    196.0   \n",
       "2    1.0     23.0    200.0     21.0     22.0     25.0     26.0     25.0   \n",
       "3    1.0    101.0     82.0     90.0    100.0    137.0    145.0    178.0   \n",
       "4    0.0     70.0     90.0    167.0    179.0     95.0     82.0     33.0   \n",
       "\n",
       "   pixel 7  pixel 8    ...      pixel 774  pixel 775  pixel 776  pixel 777  \\\n",
       "0    129.0    114.0    ...          176.0      179.0      164.0      177.0   \n",
       "1    188.0    172.0    ...          175.0      175.0      172.0      171.0   \n",
       "2     22.0      6.0    ...          126.0      114.0      100.0       99.0   \n",
       "3    125.0    141.0    ...          159.0      128.0      127.0      110.0   \n",
       "4      0.0      0.0    ...          214.0      211.0      198.0      210.0   \n",
       "\n",
       "   pixel 778  pixel 779  pixel 780  pixel 781  pixel 782  pixel 783  \n",
       "0      184.0      141.0       50.0        8.0       11.0       12.0  \n",
       "1      157.0      144.0      130.0       98.0       73.0       15.0  \n",
       "2      101.0       69.0      110.0       33.0       28.0       30.0  \n",
       "3      119.0      135.0      143.0      159.0      120.0       85.0  \n",
       "4      203.0      191.0      166.0       56.0        0.0        0.0  \n",
       "\n",
       "[5 rows x 785 columns]"
      ]
     },
     "execution_count": 3,
     "metadata": {},
     "output_type": "execute_result"
    }
   ],
   "source": [
    "train_df.head()"
   ]
  },
  {
   "cell_type": "code",
   "execution_count": 4,
   "metadata": {},
   "outputs": [],
   "source": [
    "train_df = np.array(train_df,dtype='float32')\n",
    "test_df = np.array(test_df,dtype='float32')\n",
    "x_train =  train_df[:,1:] /255\n",
    "y_train =  train_df[:,0]\n",
    "\n",
    "x_test =  test_df[:,1:] /255\n",
    "y_test =  test_df[:,0]"
   ]
  },
  {
   "cell_type": "code",
   "execution_count": 5,
   "metadata": {},
   "outputs": [],
   "source": [
    "x_train, x_validate, y_train, y_validate = train_test_split(x_train, y_train, test_size = 0.2, random_state=12345)"
   ]
  },
  {
   "cell_type": "code",
   "execution_count": 6,
   "metadata": {},
   "outputs": [],
   "source": [
    "image_sample = x_train[300].reshape(28,28) #reshape into current dimension\n"
   ]
  },
  {
   "cell_type": "code",
   "execution_count": 7,
   "metadata": {},
   "outputs": [
    {
     "data": {
      "image/png": "[encoded data removed]",
      "text/plain": [
       "<Figure size 432x288 with 1 Axes>"
      ]
     },
     "metadata": {},
     "output_type": "display_data"
    }
   ],
   "source": [
    "plt.imshow(image_sample)\n",
    "plt.show()"
   ]
  },
  {
   "cell_type": "markdown",
   "metadata": {},
   "source": [
    "# Create CNN Model"
   ]
  },
  {
   "cell_type": "code",
   "execution_count": 8,
   "metadata": {},
   "outputs": [
    {
     "name": "stdout",
     "output_type": "stream",
     "text": [
      "x_train shape:(4172, 28, 28, 1)\n",
      "x_test shape:(624, 28, 28, 1)\n",
      "x_validate shape:(1044, 28, 28, 1)\n"
     ]
    }
   ],
   "source": [
    "im_rows = 28\n",
    "im_cols = 28\n",
    "batch_size = 512\n",
    "im_shape = (im_rows, im_cols, 1)\n",
    "\n",
    "x_train = x_train.reshape(x_train.shape[0], *im_shape)\n",
    "x_test = x_test.reshape(x_test.shape[0], *im_shape)\n",
    "x_validate = x_validate.reshape(x_validate.shape[0], *im_shape)\n",
    "\n",
    "print('x_train shape:{}'.format(x_train.shape))\n",
    "print('x_test shape:{}'.format(x_test.shape))\n",
    "print('x_validate shape:{}'.format(x_validate.shape))\n"
   ]
  },
  {
   "cell_type": "code",
   "execution_count": 28,
   "metadata": {},
   "outputs": [],
   "source": [
    "name = '1_Layer'\n",
    "cnn_model_1 = Sequential([\n",
    "    Conv2D(filters=64, kernel_size=3, activation='relu', input_shape = im_shape, name='Conv2D-1'),\n",
    "    MaxPooling2D(pool_size=3, name='MaxPool-1'),\n",
    "    Conv2D(filters=64, kernel_size=3, activation='relu', input_shape = im_shape, name='Conv2D-2'),\n",
    "    MaxPooling2D(pool_size=3, name='MaxPool-2'),\n",
    "    Flatten(name='Flatten'),\n",
    "    Dense(32, activation='relu', name='Dense'),\n",
    "    Dense(2, activation='softmax', name='Output')\n",
    "    \n",
    "],name=name)\n",
    "\n",
    "name = '2_Layer'\n",
    "cnn_model_2 = Sequential([\n",
    "    Conv2D(filters=64, kernel_size=3, activation='relu', input_shape = im_shape, name='Conv2D-1'),\n",
    "    MaxPooling2D(pool_size=2, name='MaxPool'),\n",
    "    Dropout(0.2, name='Dropout_1'),\n",
    "    Conv2D(filters=64, kernel_size=3, activation='relu', input_shape = im_shape, name='Conv2D-2'),\n",
    "    Dropout(0.25, name='Dropout_2'),\n",
    "    Flatten(name='Flatten'),\n",
    "    Dense(32, activation='relu', name='Dense'),\n",
    "    Dense(2, activation='softmax', name='Output')\n",
    "    \n",
    "],name=name)\n",
    "\n",
    "'''name = '3_Layer'\n",
    "cnn_model_3 = Sequential([\n",
    "    Conv2D(filters=64, kernel_size=3, activation='relu', kernel_initializer='he_normal', input_shape = im_shape, name='Conv2D-1'),\n",
    "    MaxPooling2D(pool_size=2, name='MaxPool'),\n",
    "    Dropout(0.2, name='Dropout_1'),\n",
    "    Conv2D(filters=64, kernel_size=3, activation='relu', input_shape = im_shape, name='Conv2D-2'),\n",
    "    Dropout(0.25, name='Dropout_2'),\n",
    "    Conv2D(filters=128, kernel_size=3, activation='relu', input_shape = im_shape, name='Conv2D-3'),\n",
    "    Dropout(0.4, name='Dropout_3'),\n",
    "    Flatten(name='Flatten'),\n",
    "    Dense(128, activation='relu', name='Dense'),\n",
    "    Dropout(0.4, name='Dropout_4'),\n",
    "    Dense(2, activation='softmax', name='Output') \n",
    "],name=name)'''\n",
    "\n",
    "cnn_models = [cnn_model_1, cnn_model_2]"
   ]
  },
  {
   "cell_type": "code",
   "execution_count": 29,
   "metadata": {},
   "outputs": [
    {
     "name": "stdout",
     "output_type": "stream",
     "text": [
      "_________________________________________________________________\n",
      "Layer (type)                 Output Shape              Param #   \n",
      "=================================================================\n",
      "Conv2D-1 (Conv2D)            (None, 26, 26, 64)        640       \n",
      "_________________________________________________________________\n",
      "MaxPool-1 (MaxPooling2D)     (None, 8, 8, 64)          0         \n",
      "_________________________________________________________________\n",
      "Conv2D-2 (Conv2D)            (None, 6, 6, 64)          36928     \n",
      "_________________________________________________________________\n",
      "MaxPool-2 (MaxPooling2D)     (None, 2, 2, 64)          0         \n",
      "_________________________________________________________________\n",
      "Flatten (Flatten)            (None, 256)               0         \n",
      "_________________________________________________________________\n",
      "Dense (Dense)                (None, 32)                8224      \n",
      "_________________________________________________________________\n",
      "Output (Dense)               (None, 2)                 66        \n",
      "=================================================================\n",
      "Total params: 45,858\n",
      "Trainable params: 45,858\n",
      "Non-trainable params: 0\n",
      "_________________________________________________________________\n",
      "_________________________________________________________________\n",
      "Layer (type)                 Output Shape              Param #   \n",
      "=================================================================\n",
      "Conv2D-1 (Conv2D)            (None, 26, 26, 64)        640       \n",
      "_________________________________________________________________\n",
      "MaxPool (MaxPooling2D)       (None, 13, 13, 64)        0         \n",
      "_________________________________________________________________\n",
      "Dropout_1 (Dropout)          (None, 13, 13, 64)        0         \n",
      "_________________________________________________________________\n",
      "Conv2D-2 (Conv2D)            (None, 11, 11, 64)        36928     \n",
      "_________________________________________________________________\n",
      "Dropout_2 (Dropout)          (None, 11, 11, 64)        0         \n",
      "_________________________________________________________________\n",
      "Flatten (Flatten)            (None, 7744)              0         \n",
      "_________________________________________________________________\n",
      "Dense (Dense)                (None, 32)                247840    \n",
      "_________________________________________________________________\n",
      "Output (Dense)               (None, 2)                 66        \n",
      "=================================================================\n",
      "Total params: 285,474\n",
      "Trainable params: 285,474\n",
      "Non-trainable params: 0\n",
      "_________________________________________________________________\n"
     ]
    }
   ],
   "source": [
    "for model in cnn_models:\n",
    "    model.summary()"
   ]
  },
  {
   "cell_type": "code",
   "execution_count": 30,
   "metadata": {},
   "outputs": [
    {
     "name": "stdout",
     "output_type": "stream",
     "text": [
      "Train on 4172 samples, validate on 1044 samples\n",
      "Epoch 1/20\n",
      "4172/4172 [==============================] - 3s 756us/step - loss: 0.6149 - acc: 0.6872 - val_loss: 0.5996 - val_acc: 0.7318\n",
      "Epoch 2/20\n",
      "4172/4172 [==============================] - 3s 693us/step - loss: 0.5680 - acc: 0.7457 - val_loss: 0.5684 - val_acc: 0.7318\n",
      "Epoch 3/20\n",
      "4172/4172 [==============================] - 4s 866us/step - loss: 0.5491 - acc: 0.7457 - val_loss: 0.5462 - val_acc: 0.7318\n",
      "Epoch 4/20\n",
      "4172/4172 [==============================] - 3s 795us/step - loss: 0.5225 - acc: 0.7457 - val_loss: 0.5148 - val_acc: 0.7318\n",
      "Epoch 5/20\n",
      "4172/4172 [==============================] - 3s 732us/step - loss: 0.4865 - acc: 0.7459 - val_loss: 0.4690 - val_acc: 0.7308\n",
      "Epoch 6/20\n",
      "4172/4172 [==============================] - 3s 706us/step - loss: 0.4336 - acc: 0.7634 - val_loss: 0.4185 - val_acc: 0.8324\n",
      "Epoch 7/20\n",
      "4172/4172 [==============================] - 3s 802us/step - loss: 0.3798 - acc: 0.8269 - val_loss: 0.3578 - val_acc: 0.8621\n",
      "Epoch 8/20\n",
      "4172/4172 [==============================] - 3s 802us/step - loss: 0.3233 - acc: 0.8646 - val_loss: 0.3083 - val_acc: 0.8688\n",
      "Epoch 9/20\n",
      "4172/4172 [==============================] - 3s 764us/step - loss: 0.2869 - acc: 0.8806 - val_loss: 0.2765 - val_acc: 0.8793\n",
      "Epoch 10/20\n",
      "4172/4172 [==============================] - 3s 683us/step - loss: 0.2637 - acc: 0.8871 - val_loss: 0.2613 - val_acc: 0.8822\n",
      "Epoch 11/20\n",
      "4172/4172 [==============================] - 3s 661us/step - loss: 0.2483 - acc: 0.8981 - val_loss: 0.2490 - val_acc: 0.9071\n",
      "Epoch 12/20\n",
      "4172/4172 [==============================] - 3s 656us/step - loss: 0.2265 - acc: 0.9123 - val_loss: 0.2858 - val_acc: 0.8927\n",
      "Epoch 13/20\n",
      "4172/4172 [==============================] - 3s 656us/step - loss: 0.2358 - acc: 0.9075 - val_loss: 0.2193 - val_acc: 0.9138\n",
      "Epoch 14/20\n",
      "4172/4172 [==============================] - 3s 684us/step - loss: 0.2064 - acc: 0.9185 - val_loss: 0.2190 - val_acc: 0.9215\n",
      "Epoch 15/20\n",
      "4172/4172 [==============================] - 3s 665us/step - loss: 0.1949 - acc: 0.9291 - val_loss: 0.2125 - val_acc: 0.9080\n",
      "Epoch 16/20\n",
      "4172/4172 [==============================] - 3s 674us/step - loss: 0.1963 - acc: 0.9221 - val_loss: 0.2166 - val_acc: 0.9205\n",
      "Epoch 17/20\n",
      "4172/4172 [==============================] - 3s 698us/step - loss: 0.1874 - acc: 0.9271 - val_loss: 0.1894 - val_acc: 0.9243\n",
      "Epoch 18/20\n",
      "4172/4172 [==============================] - 3s 678us/step - loss: 0.1833 - acc: 0.9322 - val_loss: 0.1841 - val_acc: 0.9253\n",
      "Epoch 19/20\n",
      "4172/4172 [==============================] - 3s 793us/step - loss: 0.1709 - acc: 0.9355 - val_loss: 0.1946 - val_acc: 0.9272\n",
      "Epoch 20/20\n",
      "4172/4172 [==============================] - 3s 669us/step - loss: 0.1666 - acc: 0.9386 - val_loss: 0.1743 - val_acc: 0.9301\n",
      "Train on 4172 samples, validate on 1044 samples\n",
      "Epoch 1/20\n",
      "4172/4172 [==============================] - 6s 1ms/step - loss: 0.5784 - acc: 0.6992 - val_loss: 0.5281 - val_acc: 0.7318\n",
      "Epoch 2/20\n",
      "4172/4172 [==============================] - 5s 1ms/step - loss: 0.4773 - acc: 0.7517 - val_loss: 0.3899 - val_acc: 0.8190\n",
      "Epoch 3/20\n",
      "4172/4172 [==============================] - 5s 1ms/step - loss: 0.3458 - acc: 0.8464 - val_loss: 0.2907 - val_acc: 0.8898\n",
      "Epoch 4/20\n",
      "4172/4172 [==============================] - 5s 1ms/step - loss: 0.2673 - acc: 0.8828 - val_loss: 0.2440 - val_acc: 0.9052\n",
      "Epoch 5/20\n",
      "4172/4172 [==============================] - 5s 1ms/step - loss: 0.2293 - acc: 0.9060 - val_loss: 0.1988 - val_acc: 0.9186\n",
      "Epoch 6/20\n",
      "4172/4172 [==============================] - 5s 1ms/step - loss: 0.2072 - acc: 0.9123 - val_loss: 0.1761 - val_acc: 0.9320\n",
      "Epoch 7/20\n",
      "4172/4172 [==============================] - 5s 1ms/step - loss: 0.1768 - acc: 0.9283 - val_loss: 0.1586 - val_acc: 0.9406\n",
      "Epoch 8/20\n",
      "4172/4172 [==============================] - 5s 1ms/step - loss: 0.1642 - acc: 0.9372 - val_loss: 0.1473 - val_acc: 0.9435\n",
      "Epoch 9/20\n",
      "4172/4172 [==============================] - 5s 1ms/step - loss: 0.1713 - acc: 0.9286 - val_loss: 0.1352 - val_acc: 0.9492\n",
      "Epoch 10/20\n",
      "4172/4172 [==============================] - 5s 1ms/step - loss: 0.1467 - acc: 0.9456 - val_loss: 0.1317 - val_acc: 0.9473\n",
      "Epoch 11/20\n",
      "4172/4172 [==============================] - 6s 1ms/step - loss: 0.1407 - acc: 0.9461 - val_loss: 0.1295 - val_acc: 0.9540\n",
      "Epoch 12/20\n",
      "4172/4172 [==============================] - 6s 1ms/step - loss: 0.1310 - acc: 0.9518 - val_loss: 0.1251 - val_acc: 0.9559\n",
      "Epoch 13/20\n",
      "4172/4172 [==============================] - 6s 2ms/step - loss: 0.1314 - acc: 0.9463 - val_loss: 0.1277 - val_acc: 0.9550\n",
      "Epoch 14/20\n",
      "4172/4172 [==============================] - 5s 1ms/step - loss: 0.1371 - acc: 0.9444 - val_loss: 0.1579 - val_acc: 0.9387\n",
      "Epoch 15/20\n",
      "4172/4172 [==============================] - 6s 1ms/step - loss: 0.1437 - acc: 0.9470 - val_loss: 0.2026 - val_acc: 0.9205\n",
      "Epoch 16/20\n",
      "4172/4172 [==============================] - 5s 1ms/step - loss: 0.1407 - acc: 0.9458 - val_loss: 0.1111 - val_acc: 0.9598\n",
      "Epoch 17/20\n",
      "4172/4172 [==============================] - 6s 1ms/step - loss: 0.1203 - acc: 0.9552 - val_loss: 0.1107 - val_acc: 0.9569\n",
      "Epoch 18/20\n",
      "4172/4172 [==============================] - 5s 1ms/step - loss: 0.1113 - acc: 0.9593 - val_loss: 0.1051 - val_acc: 0.9617\n",
      "Epoch 19/20\n",
      "4172/4172 [==============================] - 5s 1ms/step - loss: 0.1058 - acc: 0.9590 - val_loss: 0.1048 - val_acc: 0.9626\n",
      "Epoch 20/20\n",
      "4172/4172 [==============================] - 5s 1ms/step - loss: 0.1063 - acc: 0.9585 - val_loss: 0.1079 - val_acc: 0.9617\n"
     ]
    }
   ],
   "source": [
    "history_dict = {}\n",
    "for model in cnn_models:\n",
    "    model.compile(\n",
    "        loss='sparse_categorical_crossentropy',\n",
    "        optimizer = Adam(),\n",
    "        metrics=['accuracy'])\n",
    "    history = model.fit(\n",
    "        x_train, y_train,\n",
    "        batch_size=batch_size,\n",
    "        epochs=20, verbose=True,\n",
    "        validation_data=(x_validate, y_validate))\n",
    "    history_dict[model.name] = history\n",
    "    \n"
   ]
  },
  {
   "cell_type": "code",
   "execution_count": 31,
   "metadata": {},
   "outputs": [
    {
     "data": {
      "image/png": "[encoded data removed]",
      "text/plain": [
       "<Figure size 576x432 with 2 Axes>"
      ]
     },
     "metadata": {},
     "output_type": "display_data"
    }
   ],
   "source": [
    "fig, (ax1, ax2) = plt.subplots(2, figsize = (8, 6))\n",
    "\n",
    "for history in history_dict:\n",
    "    val_acc = history_dict[history].history['val_acc']\n",
    "    val_loss = history_dict[history].history['val_loss']\n",
    "    ax1.plot(val_acc, label=history)\n",
    "    ax2.plot(val_loss, label=history)\n",
    "    \n",
    "ax1.set_ylabel('Validation Accuracy')\n",
    "ax2.set_ylabel('Validation Loss')\n",
    "ax2.set_xlabel('epochs')\n",
    "ax1.legend()\n",
    "ax2.legend()\n",
    "plt.show()"
   ]
  },
  {
   "cell_type": "code",
   "execution_count": 32,
   "metadata": {},
   "outputs": [
    {
     "name": "stdout",
     "output_type": "stream",
     "text": [
      "624/624 [==============================] - 0s 250us/step\n",
      "Test Loss : 0.4114\n",
      "Test Acc  : 0.8269\n"
     ]
    }
   ],
   "source": [
    "score = cnn_model_1.evaluate(x_test, y_test, verbose=1)\n",
    "print('Test Loss : {:.4f}'.format(score[0]))\n",
    "print('Test Acc  : {:.4f}'.format(score[1]))\n"
   ]
  },
  {
   "cell_type": "code",
   "execution_count": 34,
   "metadata": {},
   "outputs": [
    {
     "name": "stdout",
     "output_type": "stream",
     "text": [
      "4172/4172 [==============================] - 1s 188us/step\n",
      "Train Loss : 0.1597\n",
      "Train Acc  : 0.9379\n"
     ]
    }
   ],
   "source": [
    "score = cnn_model_1.evaluate(x_train, y_train, verbose=1)\n",
    "print('Train Loss : {:.4f}'.format(score[0]))\n",
    "print('Train Acc  : {:.4f}'.format(score[1]))"
   ]
  },
  {
   "cell_type": "code",
   "execution_count": 33,
   "metadata": {},
   "outputs": [
    {
     "name": "stdout",
     "output_type": "stream",
     "text": [
      "624/624 [==============================] - 0s 361us/step\n",
      "Test Loss : 0.9268\n",
      "Test Acc  : 0.7228\n"
     ]
    }
   ],
   "source": [
    "score = cnn_model_2.evaluate(x_test, y_test, verbose=1)\n",
    "print('Test Loss : {:.4f}'.format(score[0]))\n",
    "print('Test Acc  : {:.4f}'.format(score[1]))\n"
   ]
  },
  {
   "cell_type": "code",
   "execution_count": 35,
   "metadata": {},
   "outputs": [
    {
     "name": "stdout",
     "output_type": "stream",
     "text": [
      "4172/4172 [==============================] - 1s 321us/step\n",
      "Train Loss : 0.0947\n",
      "Train Acc  : 0.9643\n"
     ]
    }
   ],
   "source": [
    "score = cnn_model_2.evaluate(x_train, y_train, verbose=1)\n",
    "print('Train Loss : {:.4f}'.format(score[0]))\n",
    "print('Train Acc  : {:.4f}'.format(score[1]))"
   ]
  },
  {
   "cell_type": "code",
   "execution_count": 50,
   "metadata": {},
   "outputs": [
    {
     "name": "stdout",
     "output_type": "stream",
     "text": [
      "624/624 [==============================] - 0s 602us/step\n",
      "Test Loss : 0.5546\n",
      "Test Acc  : 0.8429\n"
     ]
    }
   ],
   "source": [
    "score = cnn_model_3.evaluate(x_test, y_test, verbose=1)\n",
    "print('Test Loss : {:.4f}'.format(score[0]))\n",
    "print('Test Acc  : {:.4f}'.format(score[1]))\n"
   ]
  },
  {
   "cell_type": "code",
   "execution_count": 54,
   "metadata": {},
   "outputs": [
    {
     "name": "stdout",
     "output_type": "stream",
     "text": [
      "3337/3337 [==============================] - 2s 554us/step\n",
      "Train Loss : 0.1828\n",
      "Train Acc  : 0.9589\n"
     ]
    }
   ],
   "source": [
    "score = cnn_model_3.evaluate(x_train, y_train, verbose=1)\n",
    "print('Train Loss : {:.4f}'.format(score[0]))\n",
    "print('Train Acc  : {:.4f}'.format(score[1]))"
   ]
  },
  {
   "cell_type": "code",
   "execution_count": 34,
   "metadata": {},
   "outputs": [],
   "source": [
    "# We know that MNIST images are 28 pixels in each dimension.\n",
    "img_size = 28\n",
    "\n",
    "# Images are stored in one-dimensional arrays of this length.\n",
    "img_size_flat = img_size * img_size\n",
    "\n",
    "# Tuple with height and width of images used to reshape arrays.\n",
    "# This is used for plotting the images.\n",
    "img_shape = (img_size, img_size)\n",
    "\n",
    "# Tuple with height, width and depth used to reshape arrays.\n",
    "# This is used for reshaping in Keras.\n",
    "img_shape_full = (img_size, img_size, 1)\n",
    "\n",
    "# Number of colour channels for the images: 1 channel for gray-scale.\n",
    "num_channels = 1\n",
    "\n",
    "# Number of classes, one class for each of 10 digits.\n",
    "num_classes = 2\n",
    "\n",
    "labels = ['Normal\\n', 'Pneumonia\\n']\n"
   ]
  },
  {
   "cell_type": "code",
   "execution_count": 35,
   "metadata": {},
   "outputs": [],
   "source": [
    "def plot_images(images, cls_true, cls_pred=None):\n",
    "    assert len(images) == len(cls_true) == 16\n",
    "    \n",
    "    # Create figure with 4x4 sub-plots.\n",
    "    fig, axes = plt.subplots(4, 4)\n",
    "    fig.subplots_adjust(hspace=1.0, wspace=0.3)\n",
    "\n",
    "    for i, ax in enumerate(axes.flat):\n",
    "        # Plot image.\n",
    "        ax.imshow(images[i].reshape(img_shape), cmap='binary')\n",
    "\n",
    "        # Show true and predicted classes.\n",
    "        if cls_pred is None:\n",
    "            xlabel = \"True: {0}\".format(cls_true[i])\n",
    "        else:\n",
    "            xlabel = \"True: {0}, Pred: {1}\".format(cls_true[i], cls_pred[i])\n",
    "\n",
    "        # Show the classes as the label on the x-axis.\n",
    "        ax.set_xlabel(xlabel)\n",
    "        \n",
    "        # Remove ticks from the plot.\n",
    "        ax.set_xticks([])\n",
    "        ax.set_yticks([])\n",
    "    \n",
    "    # Ensure the plot is shown correctly with multiple plots\n",
    "    # in a single Notebook cell.\n",
    "    plt.show()"
   ]
  },
  {
   "cell_type": "code",
   "execution_count": 77,
   "metadata": {
    "scrolled": true
   },
   "outputs": [
    {
     "data": {
      "image/png": "[encoded data removed]",
      "text/plain": [
       "<Figure size 432x288 with 16 Axes>"
      ]
     },
     "metadata": {},
     "output_type": "display_data"
    }
   ],
   "source": [
    "# Get the first images from the test-set.\n",
    "random_data = np.random.randint(623, size= 16)\n",
    "images = x_test[random_data]\n",
    "cls_true = y_test[random_data]\n",
    "cls_true = cls_true.astype(int)\n",
    "cls_lbl = []\n",
    "for i in range(len(cls_true)):\n",
    "    cls_lbl = np.append(cls_lbl, labels[cls_true[i]])\n",
    "    \n",
    "# Get the true classes for those images.\n",
    "cls_true = y_test[random_data]\n",
    "# Plot the images and labels using our helper-function above.\n",
    "plot_images(images=images, cls_true=cls_lbl)"
   ]
  },
  {
   "cell_type": "code",
   "execution_count": 78,
   "metadata": {},
   "outputs": [
    {
     "name": "stdout",
     "output_type": "stream",
     "text": [
      "[570 422 100 210 488 460 262 331 554  85 146 198 542 584  96 576]\n"
     ]
    }
   ],
   "source": [
    "print(random_data)"
   ]
  },
  {
   "cell_type": "code",
   "execution_count": 79,
   "metadata": {},
   "outputs": [
    {
     "data": {
      "image/png": "[encoded data removed]",
      "text/plain": [
       "<Figure size 432x288 with 16 Axes>"
      ]
     },
     "metadata": {},
     "output_type": "display_data"
    }
   ],
   "source": [
    "#Predict\n",
    "#images = x_test[500:516]\n",
    "\n",
    "images = x_test[random_data]\n",
    "\n",
    "y_pred = cnn_model_1.predict(x=images) #swicth to model that we use \n",
    "cls_pred = np.argmax(y_pred,axis=1)\n",
    "cls_lbl_pred = []\n",
    "for i in range(len(y_pred)):\n",
    "    cls_lbl_pred = np.append(cls_lbl_pred, labels[cls_pred[i]])\n",
    "    \n",
    "\n",
    "plot_images(images=images,\n",
    "            cls_true=cls_lbl,\n",
    "            cls_pred=cls_lbl_pred)\n",
    "\n"
   ]
  },
  {
   "cell_type": "code",
   "execution_count": null,
   "metadata": {},
   "outputs": [],
   "source": []
  }
 ],
 "metadata": {
  "kernelspec": {
   "display_name": "Python 3",
   "language": "python",
   "name": "python3"
  },
  "language_info": {
   "codemirror_mode": {
    "name": "ipython",
    "version": 3
   },
   "file_extension": ".py",
   "mimetype": "text/x-python",
   "name": "python",
   "nbconvert_exporter": "python",
   "pygments_lexer": "ipython3",
   "version": "3.6.5"
  }
 },
 "nbformat": 4,
 "nbformat_minor": 2
}
